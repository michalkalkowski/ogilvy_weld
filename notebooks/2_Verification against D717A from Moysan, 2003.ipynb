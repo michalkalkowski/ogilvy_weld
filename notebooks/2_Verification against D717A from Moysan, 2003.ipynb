{
 "cells": [
  {
   "cell_type": "markdown",
   "metadata": {},
   "source": [
    "# Verification of MINA routines against D717A weld from Moysan (2003)\n",
    "This notebook compares the outputs of:\n",
    "* mina-weld package\n",
    "* David Fan's MATLAB implementation of MINA from NDE Lab repository\n",
    "* the image from Moysan (2003).\n",
    "\n",
    "Some identified issues include:\n",
    "* Moysan (2003) does not specify the number of passes per layer explicitly. They may only be inferred from Fig 2., but this is prone to error.\n",
    "* The height of the top parabola is also not given.\n",
    "* David Fan's code does not use the double-parabolic shape of the pass - it seems that rectangles are used instead."
   ]
  },
  {
   "cell_type": "code",
   "execution_count": 1,
   "metadata": {},
   "outputs": [
    {
     "ename": "ModuleNotFoundError",
     "evalue": "No module named 'mina'",
     "output_type": "error",
     "traceback": [
      "\u001b[0;31m---------------------------------------------------------------------------\u001b[0m",
      "\u001b[0;31mModuleNotFoundError\u001b[0m                       Traceback (most recent call last)",
      "\u001b[0;32m<ipython-input-1-65c0cd3395a1>\u001b[0m in \u001b[0;36m<module>\u001b[0;34m()\u001b[0m\n\u001b[1;32m      8\u001b[0m \u001b[0;32mimport\u001b[0m \u001b[0mnumpy\u001b[0m \u001b[0;32mas\u001b[0m \u001b[0mnp\u001b[0m\u001b[0;34m\u001b[0m\u001b[0m\n\u001b[1;32m      9\u001b[0m \u001b[0;32mimport\u001b[0m \u001b[0mmatplotlib\u001b[0m\u001b[0;34m.\u001b[0m\u001b[0mpyplot\u001b[0m \u001b[0;32mas\u001b[0m \u001b[0mplt\u001b[0m\u001b[0;34m\u001b[0m\u001b[0m\n\u001b[0;32m---> 10\u001b[0;31m \u001b[0;32mimport\u001b[0m \u001b[0mmina\u001b[0m\u001b[0;34m.\u001b[0m\u001b[0mmina_model\u001b[0m \u001b[0;32mas\u001b[0m \u001b[0mmina\u001b[0m\u001b[0;34m\u001b[0m\u001b[0m\n\u001b[0m\u001b[1;32m     11\u001b[0m \u001b[0;34m\u001b[0m\u001b[0m\n\u001b[1;32m     12\u001b[0m \u001b[0;31m# Create weld model\u001b[0m\u001b[0;34m\u001b[0m\u001b[0;34m\u001b[0m\u001b[0m\n",
      "\u001b[0;31mModuleNotFoundError\u001b[0m: No module named 'mina'"
     ]
    }
   ],
   "source": [
    "\"\"\"\n",
    "A test validating mina-weld against Moysan et al. (2003), case D717A\n",
    "Created by: Michal K. Kalkowski\n",
    "20/02/2018\n",
    "\n",
    "License: MIT\n",
    "\"\"\"\n",
    "import numpy as np\n",
    "import matplotlib.pyplot as plt\n",
    "import mina.mina_model as mina\n",
    "\n",
    "# Create weld model\n",
    "weld_parameters = dict([('remelt_h', 0.47),\n",
    "                        ('remelt_v', 0.26),\n",
    "                        ('theta_b', np.deg2rad(18)),\n",
    "                        ('theta_c', np.deg2rad(12)),\n",
    "                        ('order', 'left_to_right'),\n",
    "                        ('number_of_layers', 11),\n",
    "                        ('number_of_passes', np.array([1]*1 + 4*[2] + 2*[3] +\n",
    "                                                      [4]*4)),\n",
    "                        ('electrode_diameter', np.array([1.6, 2.5, 3.2, 4] +\n",
    "                                                        [5]*4 + [4]*3)),\n",
    "                        ('a', 38),\n",
    "                        ('b', 4),\n",
    "                        ('c', 36)])\n",
    "weld = mina.MINA_weld(weld_parameters)\n",
    "weld.define_grid_size(2., use_centroids=True)\n",
    "weld.solve()\n",
    "# weld.fill_missing()\n"
   ]
  },
  {
   "cell_type": "code",
   "execution_count": null,
   "metadata": {
    "collapsed": true
   },
   "outputs": [],
   "source": []
  }
 ],
 "metadata": {
  "kernelspec": {
   "display_name": "Python 3",
   "language": "python",
   "name": "python3"
  },
  "language_info": {
   "codemirror_mode": {
    "name": "ipython",
    "version": 3
   },
   "file_extension": ".py",
   "mimetype": "text/x-python",
   "name": "python",
   "nbconvert_exporter": "python",
   "pygments_lexer": "ipython3",
   "version": "3.6.3"
  }
 },
 "nbformat": 4,
 "nbformat_minor": 2
}
